# 🚦 AI Traffic Sign Recognition with Gemini 2.0 Flash API
# -------------------------------------------------------
# Features:
#  1. Upload a traffic sign image
#  2. If not a sign -> show error
#  3. If a valid sign -> analyze and give full details
#  4. Works with Gemini 2.0 Flash API

# -------------------- 1. INSTALL & IMPORT LIBRARIES --------------------
!pip install --quiet gradio pillow requests

import gradio as gr
import requests
import base64
from PIL import Image
import io

# -------------------- 2. GEMINI API CONFIG --------------------
GEMINI_API_KEY = "Your_Gemini_API_Key"
GEMINI_URL = "https://generativelanguage.googleapis.com/v1beta/models/gemini-2.0-flash:generateContent"

# -------------------- 3. FUNCTION TO ANALYZE TRAFFIC SIGN --------------------
def analyze_traffic_sign(img: Image.Image):
    # Convert image to base64 for API
    buffered = io.BytesIO()
    img.convert("RGB").save(buffered, format="JPEG")
    img_base64 = base64.b64encode(buffered.getvalue()).decode()

    # Prompt for Gemini
    prompt = """
    You are a traffic sign recognition expert.
    Task:
    1. Identify if the uploaded image is a traffic sign.
    2. If it is NOT a traffic sign, return exactly: "NOT_SIGN".
    3. If it IS a traffic sign:
       - Provide the sign name (example: Stop, Yield, Speed Limit 50).
       - Explain the meaning of the sign.
       - Give driving instructions or rules related to this sign.
    4. Keep the answer short and clear for class project use.
    """

    payload = {
        "contents": [
            {
                "parts": [
                    {"text": prompt},
                    {
                        "inline_data": {
                            "mime_type": "image/jpeg",
                            "data": img_base64
                        }
                    }
                ]
            }
        ]
    }

    headers = {
        "Content-Type": "application/json",
        "X-goog-api-key": GEMINI_API_KEY
    }

    try:
        response = requests.post(GEMINI_URL, headers=headers, json=payload)
        result = response.json()

        # Extract text safely
        try:
            output_text = result["candidates"][0]["content"]["parts"][0]["text"].strip()
        except:
            return "❌ Error: Could not analyze the image. Please try again."

        # Handle NOT_SIGN
        if "NOT_SIGN" in output_text.upper():
            return "❌ Error: Uploaded image does not appear to be a traffic sign."

        return f"🚦 Traffic Sign Analysis:\n{output_text}"

    except Exception as e:
        return f"❌ API Error: {str(e)}"

# -------------------- 4. GRADIO WEB APP --------------------
demo = gr.Interface(
    fn=analyze_traffic_sign,
    inputs=gr.Image(type="pil", label="Upload Traffic Sign Image"),
    outputs=gr.Textbox(label="Result"),
    title="🚦 AI Traffic Sign Recognition (Gemini Powered)",
    description="Upload an image of a traffic sign. If it's valid, you will get full details. If not, an error will appear."
)

# -------------------- 5. LAUNCH APP --------------------
demo.launch()
